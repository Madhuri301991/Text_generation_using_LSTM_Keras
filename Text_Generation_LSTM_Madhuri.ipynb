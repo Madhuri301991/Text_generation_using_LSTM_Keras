{
 "cells": [
  {
   "cell_type": "markdown",
   "id": "D3vn9pwhliGz",
   "metadata": {
    "id": "D3vn9pwhliGz"
   },
   "source": [
    "# *Text Generation using LSTM and Keras*"
   ]
  },
  {
   "cell_type": "markdown",
   "id": "SughQyFwniRg",
   "metadata": {
    "id": "SughQyFwniRg"
   },
   "source": [
    "## Functions for Processing Text\n",
    "\n",
    "### Reading in files as a string text"
   ]
  },
  {
   "cell_type": "code",
   "execution_count": null,
   "id": "t0ttuOA0npSR",
   "metadata": {
    "colab": {
     "base_uri": "https://localhost:8080/"
    },
    "id": "t0ttuOA0npSR",
    "outputId": "5368bf64-f116-439d-f941-0759095dd83d"
   },
   "outputs": [],
   "source": [
    "!pip install tensorflow==2.5\n",
    "#for this project, use tensorflow=2.5, because generate_new_text has predict_class which is contained only in 2.5"
   ]
  },
  {
   "cell_type": "code",
   "execution_count": null,
   "id": "5d6dd64b",
   "metadata": {
    "id": "5d6dd64b"
   },
   "outputs": [],
   "source": [
    "def read_file(filepath):\n",
    "    with open(filepath) as f:\n",
    "        str_text=f.read()\n",
    "    return str_text"
   ]
  },
  {
   "cell_type": "code",
   "execution_count": null,
   "id": "03e6553d",
   "metadata": {
    "colab": {
     "base_uri": "https://localhost:8080/",
     "height": 191
    },
    "id": "03e6553d",
    "outputId": "0f09fa87-aceb-44d3-f1b6-2b750dda0eec"
   },
   "outputs": [],
   "source": [
    "read_file('moby_dick_four_chapters.txt')"
   ]
  },
  {
   "cell_type": "markdown",
   "id": "O4rVf18lqdjG",
   "metadata": {
    "id": "O4rVf18lqdjG"
   },
   "source": [
    "### Tokenize and Clean Text"
   ]
  },
  {
   "cell_type": "code",
   "execution_count": null,
   "id": "992823d5",
   "metadata": {
    "id": "992823d5"
   },
   "outputs": [],
   "source": [
    "\n",
    "import spacy"
   ]
  },
  {
   "cell_type": "code",
   "execution_count": null,
   "id": "bf6bc39c",
   "metadata": {
    "id": "bf6bc39c"
   },
   "outputs": [],
   "source": [
    "nlp=spacy.load('en_core_web_sm',disable=['parser','tagger','ner'])"
   ]
  },
  {
   "cell_type": "code",
   "execution_count": null,
   "id": "b9dd8f7f",
   "metadata": {
    "id": "b9dd8f7f"
   },
   "outputs": [],
   "source": [
    "nlp.max_length=1198623\n"
   ]
  },
  {
   "cell_type": "code",
   "execution_count": null,
   "id": "123709b9",
   "metadata": {
    "id": "123709b9"
   },
   "outputs": [],
   "source": [
    "def separate_punc(doc_test):\n",
    "    return [token.text.lower() for token in nlp(doc_test) if token.text not in '\\n\\n \\n\\n\\n!\"-#$%&()--.*+,-/:;<=>?@[\\\\]^_`{|}~\\t\\n ' ]"
   ]
  },
  {
   "cell_type": "code",
   "execution_count": null,
   "id": "0ed5b21c",
   "metadata": {
    "id": "0ed5b21c"
   },
   "outputs": [],
   "source": [
    "d=read_file('moby_dick_four_chapters.txt')"
   ]
  },
  {
   "cell_type": "code",
   "execution_count": null,
   "id": "24ed82bf",
   "metadata": {
    "colab": {
     "base_uri": "https://localhost:8080/"
    },
    "id": "24ed82bf",
    "outputId": "8a0c869b-5064-4011-e6eb-b97c8675d504"
   },
   "outputs": [],
   "source": [
    "tokens=separate_punc(d)"
   ]
  },
  {
   "cell_type": "code",
   "execution_count": null,
   "id": "7f9fc457",
   "metadata": {
    "colab": {
     "base_uri": "https://localhost:8080/"
    },
    "id": "7f9fc457",
    "outputId": "71e946f3-542e-4d29-85bf-2e11a97d3c76"
   },
   "outputs": [],
   "source": [
    "tokens"
   ]
  },
  {
   "cell_type": "code",
   "execution_count": null,
   "id": "404d91ae",
   "metadata": {
    "colab": {
     "base_uri": "https://localhost:8080/"
    },
    "id": "404d91ae",
    "outputId": "88757cce-fedd-45b4-d8d1-11f08baf029c"
   },
   "outputs": [],
   "source": [
    "len(tokens)"
   ]
  },
  {
   "cell_type": "markdown",
   "id": "POwVnoKjqtMy",
   "metadata": {
    "id": "POwVnoKjqtMy"
   },
   "source": [
    "## Create Sequences of Tokens"
   ]
  },
  {
   "cell_type": "code",
   "execution_count": null,
   "id": "f1bd48c9",
   "metadata": {
    "id": "f1bd48c9"
   },
   "outputs": [],
   "source": [
    "\n",
    "train_len=25+1\n",
    "text_sequence=[]  #empty list\n",
    "for i in range(train_len,len(tokens)):\n",
    "    seq=tokens[i-train_len:i]\n",
    "    text_sequence.append(seq)"
   ]
  },
  {
   "cell_type": "code",
   "execution_count": null,
   "id": "f6bb6f68",
   "metadata": {
    "colab": {
     "base_uri": "https://localhost:8080/"
    },
    "id": "f6bb6f68",
    "outputId": "98aca8aa-f72f-41a8-a155-67f2a9864eb3"
   },
   "outputs": [],
   "source": [
    "type(text_sequence)"
   ]
  },
  {
   "cell_type": "code",
   "execution_count": null,
   "id": "4da50d5b",
   "metadata": {
    "colab": {
     "base_uri": "https://localhost:8080/"
    },
    "id": "4da50d5b",
    "outputId": "c6f95ac3-d5f7-4b14-bc45-6a83262333e8"
   },
   "outputs": [],
   "source": [
    "text_sequence[0]"
   ]
  },
  {
   "cell_type": "code",
   "execution_count": null,
   "id": "3278050b",
   "metadata": {
    "colab": {
     "base_uri": "https://localhost:8080/"
    },
    "id": "3278050b",
    "outputId": "09534235-dcb5-4ce8-f380-a4087e402ff9"
   },
   "outputs": [],
   "source": [
    "text_sequence[1]"
   ]
  },
  {
   "cell_type": "code",
   "execution_count": null,
   "id": "a49eaaf2",
   "metadata": {
    "colab": {
     "base_uri": "https://localhost:8080/",
     "height": 53
    },
    "id": "a49eaaf2",
    "outputId": "5cf59c1d-5aab-43bc-ab47-4ff4d119d37b"
   },
   "outputs": [],
   "source": [
    "' '.join(text_sequence[0])"
   ]
  },
  {
   "cell_type": "code",
   "execution_count": null,
   "id": "071e9a11",
   "metadata": {
    "colab": {
     "base_uri": "https://localhost:8080/",
     "height": 53
    },
    "id": "071e9a11",
    "outputId": "5d1406c9-6487-4626-be7b-a8e08e32c986"
   },
   "outputs": [],
   "source": [
    "' '.join(text_sequence[1])"
   ]
  },
  {
   "cell_type": "code",
   "execution_count": null,
   "id": "494e35de",
   "metadata": {
    "colab": {
     "base_uri": "https://localhost:8080/",
     "height": 53
    },
    "id": "494e35de",
    "outputId": "038c0f49-3f0e-4a27-8f09-b431fe074c20"
   },
   "outputs": [],
   "source": [
    "' '.join(text_sequence[2])"
   ]
  },
  {
   "cell_type": "markdown",
   "id": "1arQcHURq561",
   "metadata": {
    "id": "1arQcHURq561"
   },
   "source": [
    "### Keras Tokenization"
   ]
  },
  {
   "cell_type": "code",
   "execution_count": null,
   "id": "54de2695",
   "metadata": {
    "id": "54de2695"
   },
   "outputs": [],
   "source": [
    "from tensorflow.keras.preprocessing.text import Tokenizer"
   ]
  },
  {
   "cell_type": "code",
   "execution_count": null,
   "id": "f6042c84",
   "metadata": {
    "id": "f6042c84"
   },
   "outputs": [],
   "source": [
    "tokenizer=Tokenizer()\n",
    "tokenizer.fit_on_texts(text_sequence)"
   ]
  },
  {
   "cell_type": "code",
   "execution_count": null,
   "id": "dd7cd807",
   "metadata": {
    "id": "dd7cd807"
   },
   "outputs": [],
   "source": [
    "sequences=tokenizer.texts_to_sequences(text_sequence) #converts to sequences"
   ]
  },
  {
   "cell_type": "code",
   "execution_count": null,
   "id": "026a683f",
   "metadata": {
    "colab": {
     "base_uri": "https://localhost:8080/"
    },
    "id": "026a683f",
    "outputId": "cd1d19b6-ec99-483c-fa74-d75f6cd0d366"
   },
   "outputs": [],
   "source": [
    "sequences[0]"
   ]
  },
  {
   "cell_type": "code",
   "execution_count": null,
   "id": "319f8ea6",
   "metadata": {
    "colab": {
     "base_uri": "https://localhost:8080/"
    },
    "id": "319f8ea6",
    "outputId": "ca15e3d3-f49e-4d23-d315-822213e81618"
   },
   "outputs": [],
   "source": [
    "sequences[1]"
   ]
  },
  {
   "cell_type": "code",
   "execution_count": null,
   "id": "a65e3155",
   "metadata": {
    "colab": {
     "base_uri": "https://localhost:8080/"
    },
    "id": "a65e3155",
    "outputId": "c388c86b-5d7b-49b7-a7a1-86dcdf249a76"
   },
   "outputs": [],
   "source": [
    "tokenizer.index_word"
   ]
  },
  {
   "cell_type": "code",
   "execution_count": null,
   "id": "0360896d",
   "metadata": {
    "colab": {
     "base_uri": "https://localhost:8080/"
    },
    "id": "0360896d",
    "outputId": "d08afc15-601c-4dd3-9b99-6993b62dd175"
   },
   "outputs": [],
   "source": [
    "for i in sequences[0]:\n",
    "    print(f\"{i}:{tokenizer.index_word[i]}\")"
   ]
  },
  {
   "cell_type": "code",
   "execution_count": null,
   "id": "8ff3a4c4",
   "metadata": {
    "colab": {
     "base_uri": "https://localhost:8080/"
    },
    "id": "8ff3a4c4",
    "outputId": "0f532941-4cdd-4dfa-b65d-f08ca00787fa"
   },
   "outputs": [],
   "source": [
    "tokenizer.word_counts"
   ]
  },
  {
   "cell_type": "code",
   "execution_count": null,
   "id": "6f6924c3",
   "metadata": {
    "colab": {
     "base_uri": "https://localhost:8080/"
    },
    "id": "6f6924c3",
    "outputId": "2c099bd8-1822-4518-a52a-bf71cda5b9ce"
   },
   "outputs": [],
   "source": [
    "vocabulary_size=len(tokenizer.word_counts)\n",
    "vocabulary_size"
   ]
  },
  {
   "cell_type": "code",
   "execution_count": null,
   "id": "9bbda92a",
   "metadata": {
    "colab": {
     "base_uri": "https://localhost:8080/"
    },
    "id": "9bbda92a",
    "outputId": "d9612197-36e0-4617-e87f-6a8ea0d75979"
   },
   "outputs": [],
   "source": [
    "type(sequences) "
   ]
  },
  {
   "cell_type": "markdown",
   "id": "_KUkf22qrF7T",
   "metadata": {
    "id": "_KUkf22qrF7T"
   },
   "source": [
    "### Convert to Numpy Matrix"
   ]
  },
  {
   "cell_type": "code",
   "execution_count": null,
   "id": "16df3f92",
   "metadata": {
    "id": "16df3f92"
   },
   "outputs": [],
   "source": [
    "import numpy as np\n"
   ]
  },
  {
   "cell_type": "code",
   "execution_count": null,
   "id": "35055333",
   "metadata": {
    "colab": {
     "base_uri": "https://localhost:8080/"
    },
    "id": "35055333",
    "outputId": "6a5e34a7-0c7d-4d82-ed4e-1c783b5905de"
   },
   "outputs": [],
   "source": [
    "sequences=np.array(sequences)\n",
    "sequences"
   ]
  },
  {
   "cell_type": "markdown",
   "id": "5037186b",
   "metadata": {
    "id": "5037186b"
   },
   "source": [
    "# Creat LSTM model"
   ]
  },
  {
   "cell_type": "code",
   "execution_count": null,
   "id": "af616ea6",
   "metadata": {
    "id": "af616ea6"
   },
   "outputs": [],
   "source": [
    "#split the data into features and labels \n",
    "#1] X features (first n words of sequences)\n",
    "#2] Y label (Next word after the sequence)\n",
    "#fit the model \n",
    "#split will break first columns as features and last column as target we want to predict\n",
    "\n",
    "from tensorflow.keras.utils import to_categorical\n"
   ]
  },
  {
   "cell_type": "code",
   "execution_count": null,
   "id": "cff46f19",
   "metadata": {
    "id": "cff46f19"
   },
   "outputs": [],
   "source": [
    "X=sequences[:,:-1]"
   ]
  },
  {
   "cell_type": "code",
   "execution_count": null,
   "id": "9653fb7d",
   "metadata": {
    "id": "9653fb7d"
   },
   "outputs": [],
   "source": [
    "y=sequences[:,-1]"
   ]
  },
  {
   "cell_type": "code",
   "execution_count": null,
   "id": "8ea69b12",
   "metadata": {
    "id": "8ea69b12"
   },
   "outputs": [],
   "source": [
    "y=to_categorical(y,num_classes=vocabulary_size+1)"
   ]
  },
  {
   "cell_type": "code",
   "execution_count": null,
   "id": "178fd438",
   "metadata": {
    "colab": {
     "base_uri": "https://localhost:8080/"
    },
    "id": "178fd438",
    "outputId": "ef36e420-bff1-462c-fa3c-c2d2b109745d"
   },
   "outputs": [],
   "source": [
    "y"
   ]
  },
  {
   "cell_type": "code",
   "execution_count": null,
   "id": "b6f0e96f",
   "metadata": {
    "id": "b6f0e96f"
   },
   "outputs": [],
   "source": [
    "seq_len=X.shape[1]\n"
   ]
  },
  {
   "cell_type": "code",
   "execution_count": null,
   "id": "97b0cc04",
   "metadata": {
    "colab": {
     "base_uri": "https://localhost:8080/"
    },
    "id": "97b0cc04",
    "outputId": "0de26b48-c5b2-4c8d-eb77-ce4a7367392b"
   },
   "outputs": [],
   "source": [
    "X.shape"
   ]
  },
  {
   "cell_type": "code",
   "execution_count": null,
   "id": "16e34423",
   "metadata": {
    "id": "16e34423"
   },
   "outputs": [],
   "source": [
    "#to create model\n",
    "from tensorflow.keras.models import Sequential"
   ]
  },
  {
   "cell_type": "code",
   "execution_count": null,
   "id": "911bfb96",
   "metadata": {
    "id": "911bfb96"
   },
   "outputs": [],
   "source": [
    "from tensorflow.keras.layers import Dense,LSTM,Embedding"
   ]
  },
  {
   "cell_type": "code",
   "execution_count": null,
   "id": "d2ab2c1f",
   "metadata": {
    "id": "d2ab2c1f"
   },
   "outputs": [],
   "source": [
    "def create_model(vocabulary_size,seq_len):\n",
    "    model=Sequential()\n",
    "    model.add(Embedding(vocabulary_size,seq_len,input_length=seq_len))\n",
    "    model.add(LSTM(50,return_sequences=True))\n",
    "    model.add(LSTM(50)) #another layer of LSTM\n",
    "    model.add(Dense(50,activation=\"relu\"))\n",
    "    model.add(Dense(vocabulary_size,activation=\"softmax\")) #because it end, it will give words\n",
    "    model.compile(loss='categorical_crossentropy',optimizer='adam',metrics=['accuracy']) #treat each vocabular word as an individual category\n",
    "    model.summary()\n",
    "    return model"
   ]
  },
  {
   "cell_type": "code",
   "execution_count": null,
   "id": "5fa948ff",
   "metadata": {
    "colab": {
     "base_uri": "https://localhost:8080/"
    },
    "id": "5fa948ff",
    "outputId": "1f73766d-28dc-4c6f-bf27-d52cbd082d16"
   },
   "outputs": [],
   "source": [
    "model=create_model(vocabulary_size+1,seq_len)"
   ]
  },
  {
   "cell_type": "markdown",
   "id": "H2IJItgprYn9",
   "metadata": {
    "id": "H2IJItgprYn9"
   },
   "source": [
    "### Training the Model"
   ]
  },
  {
   "cell_type": "code",
   "execution_count": null,
   "id": "725aa973",
   "metadata": {
    "id": "725aa973"
   },
   "outputs": [],
   "source": [
    "from pickle import dump,load "
   ]
  },
  {
   "cell_type": "code",
   "execution_count": null,
   "id": "9fdea211",
   "metadata": {
    "colab": {
     "base_uri": "https://localhost:8080/"
    },
    "id": "9fdea211",
    "outputId": "68b34cb5-59ab-42f5-a7dc-574272adfb53"
   },
   "outputs": [],
   "source": [
    "model.fit(X,y,batch_size=128,epochs=2,verbose=1)"
   ]
  },
  {
   "cell_type": "code",
   "execution_count": null,
   "id": "916f2cbf",
   "metadata": {
    "id": "916f2cbf"
   },
   "outputs": [],
   "source": [
    "model.save('my_model.h5')  #save the model"
   ]
  },
  {
   "cell_type": "code",
   "execution_count": null,
   "id": "eeff9cc7",
   "metadata": {
    "id": "eeff9cc7"
   },
   "outputs": [],
   "source": [
    "\n",
    "dump(tokenizer,open('my_tokenizer','wb'))"
   ]
  },
  {
   "cell_type": "markdown",
   "id": "1fc5a803",
   "metadata": {
    "id": "1fc5a803"
   },
   "source": [
    "# generate new Text Based off a seed "
   ]
  },
  {
   "cell_type": "code",
   "execution_count": null,
   "id": "4ef96c4e",
   "metadata": {
    "id": "4ef96c4e"
   },
   "outputs": [],
   "source": [
    "from  tensorflow.keras.preprocessing.sequence import pad_sequences"
   ]
  },
  {
   "cell_type": "code",
   "execution_count": null,
   "id": "c616b18e",
   "metadata": {
    "id": "c616b18e"
   },
   "outputs": [],
   "source": [
    "\n",
    "def generate_new_text(model,tokenizer,seq_len,seed_text,num_gen_works):\n",
    "    output_text=[]\n",
    "    input_text=seed_text \n",
    "    for i in range(num_gen_works):\n",
    "        encoded_text=tokenizer.texts_to_sequences([input_text])[0] \n",
    "        pad_encoded=pad_sequences([encoded_text],maxlen=seq_len,truncating='pre') \n",
    "        pred_word_ind=model.predict_classes(pad_encoded,verbose=0)[0]\n",
    "        pred_word=tokenizer.index_word[pred_word_ind]\n",
    "        input_text+=' '+pred_word\n",
    "        output_text.append(pred_word)\n",
    "    return ' '.join(output_text)"
   ]
  },
  {
   "cell_type": "code",
   "execution_count": null,
   "id": "435c2b53",
   "metadata": {
    "colab": {
     "base_uri": "https://localhost:8080/"
    },
    "id": "435c2b53",
    "outputId": "01b6d02f-fbe6-4354-b73e-f37286c606ad"
   },
   "outputs": [],
   "source": [
    "text_sequence[0]"
   ]
  },
  {
   "cell_type": "markdown",
   "id": "1ttyP_TArhXt",
   "metadata": {
    "id": "1ttyP_TArhXt"
   },
   "source": [
    "### Grab a random seed sequence"
   ]
  },
  {
   "cell_type": "code",
   "execution_count": null,
   "id": "72212d14",
   "metadata": {
    "id": "72212d14"
   },
   "outputs": [],
   "source": [
    "import random\n",
    "random.seed(101)\n",
    "random_pick=random.randint(0,len(text_sequence))"
   ]
  },
  {
   "cell_type": "code",
   "execution_count": null,
   "id": "4f299830",
   "metadata": {
    "colab": {
     "base_uri": "https://localhost:8080/"
    },
    "id": "4f299830",
    "outputId": "0c4e4703-090f-4c6c-ddb6-80ebd032d87d"
   },
   "outputs": [],
   "source": [
    "random_seed_text=text_sequence[random_pick]\n",
    "random_seed_text"
   ]
  },
  {
   "cell_type": "code",
   "execution_count": null,
   "id": "ab49a5ed",
   "metadata": {
    "colab": {
     "base_uri": "https://localhost:8080/",
     "height": 53
    },
    "id": "ab49a5ed",
    "outputId": "4e021342-b529-47c9-a38f-0830a34997d3"
   },
   "outputs": [],
   "source": [
    "seed_text=' '.join(random_seed_text)\n",
    "seed_text"
   ]
  },
  {
   "cell_type": "code",
   "execution_count": null,
   "id": "26abf71d",
   "metadata": {
    "colab": {
     "base_uri": "https://localhost:8080/",
     "height": 107
    },
    "id": "26abf71d",
    "outputId": "2e54fbab-d08b-4ed6-a8e0-194c9d9215b0"
   },
   "outputs": [],
   "source": [
    "generate_new_text(model,tokenizer,seq_len,seed_text=seed_text,num_gen_works=25)"
   ]
  },
  {
   "cell_type": "markdown",
   "id": "a5_U6Pswrtmk",
   "metadata": {
    "id": "a5_U6Pswrtmk"
   },
   "source": [
    "#loading another model"
   ]
  },
  {
   "cell_type": "code",
   "execution_count": null,
   "id": "0L2ik2JPe1so",
   "metadata": {
    "id": "0L2ik2JPe1so"
   },
   "outputs": [],
   "source": [
    "from tensorflow.keras.models import load_model"
   ]
  },
  {
   "cell_type": "code",
   "execution_count": null,
   "id": "1tlh9OJ-e101",
   "metadata": {
    "id": "1tlh9OJ-e101"
   },
   "outputs": [],
   "source": [
    "model_fin=load_model('epochBIG.h5')"
   ]
  },
  {
   "cell_type": "code",
   "execution_count": null,
   "id": "C-c-uDIze14v",
   "metadata": {
    "id": "C-c-uDIze14v"
   },
   "outputs": [],
   "source": [
    "tokenizer=load(open(\"epochBIG\",\"rb\"))\n"
   ]
  },
  {
   "cell_type": "code",
   "execution_count": null,
   "id": "ywyukIL-fUSG",
   "metadata": {
    "colab": {
     "base_uri": "https://localhost:8080/",
     "height": 53
    },
    "id": "ywyukIL-fUSG",
    "outputId": "93b31bcf-8ed6-48f1-ca92-09393378cb09"
   },
   "outputs": [],
   "source": [
    "generate_new_text(model,tokenizer,seq_len,seed_text=seed_text,num_gen_works=25)"
   ]
  }
 ],
 "metadata": {
  "colab": {
   "collapsed_sections": [],
   "provenance": []
  },
  "kernelspec": {
   "display_name": "Python 3 (ipykernel)",
   "language": "python",
   "name": "python3"
  },
  "language_info": {
   "codemirror_mode": {
    "name": "ipython",
    "version": 3
   },
   "file_extension": ".py",
   "mimetype": "text/x-python",
   "name": "python",
   "nbconvert_exporter": "python",
   "pygments_lexer": "ipython3",
   "version": "3.9.12"
  }
 },
 "nbformat": 4,
 "nbformat_minor": 5
}
